{
 "cells": [
  {
   "cell_type": "code",
   "execution_count": null,
   "id": "7500bc24-19dd-46d9-8efa-fe9e15ff8780",
   "metadata": {},
   "outputs": [],
   "source": [
    "!python --version\n",
    "import tensorflow as tf\n",
    "print(tf.__version__)"
   ]
  },
  {
   "cell_type": "code",
   "execution_count": null,
   "id": "71b8f0d6-b4f6-4f8c-9e44-57d4dce030a8",
   "metadata": {},
   "outputs": [],
   "source": [
    "from google.colab import drive\n",
    "drive.mount('/content/gdrive')"
   ]
  },
  {
   "cell_type": "code",
   "execution_count": null,
   "id": "3cd0ff51-8d4e-4456-afca-de14e86d1673",
   "metadata": {},
   "outputs": [],
   "source": [
    "#!unzip /content/gdrive/MyDrive/File Name"
   ]
  },
  {
   "cell_type": "code",
   "execution_count": 1,
   "id": "ebbc85e0-c347-43e3-8b4e-fa96b1c4dbf1",
   "metadata": {},
   "outputs": [],
   "source": [
    "#Imports\n",
    "\n",
    "import numpy as np\n",
    "import tensorflow as tf\n",
    "from tensorflow import keras\n",
    "from tensorflow.keras.models import Sequential, Model\n",
    "from tensorflow.keras import layers\n",
    "from tensorflow.keras.layers import Activation, Dense, Flatten, BatchNormalization, Input, Lambda\n",
    "from tensorflow.keras.optimizers import Adagrad\n",
    "from tensorflow.keras.metrics import categorical_crossentropy\n",
    "from tensorflow.keras.preprocessing.image import ImageDataGenerator\n",
    "from keras.applications.densenet import DenseNet121\n",
    "from keras.applications.densenet import preprocess_input\n",
    "from keras.applications.vgg16 import VGG16\n",
    "from keras.applications.vgg16 import preprocess_input\n",
    "from sklearn.metrics import confusion_matrix\n",
    "import itertools\n",
    "import os\n",
    "import shutil\n",
    "import random\n",
    "from glob import glob\n",
    "import matplotlib.pyplot as plt\n",
    "import warnings\n",
    "import PIL\n",
    "import cv2\n",
    "%matplotlib inline"
   ]
  },
  {
   "cell_type": "code",
   "execution_count": 2,
   "id": "376a5925-83b7-4b7d-95d0-86ae9a58f492",
   "metadata": {},
   "outputs": [],
   "source": [
    "#Image Directeories\n",
    "\n",
    "train_path='/content/gdrive/MyDrive/...'\n",
    "test_path='/content/gdrive/MyDrive/....'"
   ]
  },
  {
   "cell_type": "code",
   "execution_count": 3,
   "id": "83a3b481-205b-469b-b079-b37453443d0d",
   "metadata": {},
   "outputs": [],
   "source": [
    "IMAGE_SIZE = [224, 224]"
   ]
  },
  {
   "cell_type": "code",
   "execution_count": null,
   "id": "a7fe6af0-9414-46a4-8d6b-26427dd94fdd",
   "metadata": {},
   "outputs": [],
   "source": [
    "train_batches = ImageDataGenerator(rescale=1./255) \\\n",
    "    .flow_from_directory(directory=train_path, target_size=IMAGE_SIZE, classes=['FOLDER NAME_1','FOLDER NAME_2',...], batch_size=64)\n",
    "\n",
    "test_batches = ImageDataGenerator(rescale=1./255) \\\n",
    "    .flow_from_directory(directory=test_path, target_size=IMAGE_SIZE, classes=['FOLDER NAME_1','FOLDER NAME_2', ....], batch_size=64, shuffle=False)"
   ]
  },
  {
   "cell_type": "code",
   "execution_count": 4,
   "id": "060512ba-86eb-400f-9330-3de652aedf55",
   "metadata": {},
   "outputs": [],
   "source": [
    "#VGG Model\n",
    "\n",
    "vgg = VGG16(input_shape=IMAGE_SIZE+[3], weights='imagenet',include_top=False)"
   ]
  },
  {
   "cell_type": "code",
   "execution_count": null,
   "id": "86f52d59-1c60-404b-9745-1b2034a2a40a",
   "metadata": {},
   "outputs": [],
   "source": [
    "# don't train existing weights and train with our input image weights\n",
    "for layer in vgg.layers:\n",
    "  layer.trainable = False"
   ]
  },
  {
   "cell_type": "code",
   "execution_count": null,
   "id": "9bc8f95f-3090-4eb6-be09-17a85575e827",
   "metadata": {},
   "outputs": [],
   "source": [
    "folders = glob('/content/gdrive/MyDrive/Master Train folder Name-similar to given in train path/*')\n",
    "(folders)"
   ]
  },
  {
   "cell_type": "code",
   "execution_count": null,
   "id": "45503aba-0cea-4adb-abf8-22c5cd9a600e",
   "metadata": {},
   "outputs": [],
   "source": [
    "# our layers - you can add more if you want\n",
    "x = Flatten()(vgg.output)\n",
    "x = Dense(1000, activation='relu')(x)\n",
    "prediction = Dense(len(folders), activation='softmax')(x)"
   ]
  },
  {
   "cell_type": "code",
   "execution_count": null,
   "id": "b8e2ea0f-e5ce-4512-b399-f5ee619c9895",
   "metadata": {},
   "outputs": [],
   "source": [
    "model = Model(inputs=vgg.input, outputs=prediction)"
   ]
  },
  {
   "cell_type": "code",
   "execution_count": null,
   "id": "d2c4bc7f-44ec-44f2-a363-742cbcce7f1b",
   "metadata": {},
   "outputs": [],
   "source": [
    "model.summary()"
   ]
  },
  {
   "cell_type": "code",
   "execution_count": null,
   "id": "3314bf9a-28af-474b-97ce-994f4adceed2",
   "metadata": {},
   "outputs": [],
   "source": [
    "#Try wtith different Optimizer for better results\n",
    "\n",
    "model.compile(\n",
    "  loss='categorical_crossentropy',\n",
    "  optimizer='Adam',\n",
    "  metrics=['accuracy']\n",
    ")"
   ]
  },
  {
   "cell_type": "code",
   "execution_count": null,
   "id": "761aa90b-3b81-437a-b4f7-4944f1f0b465",
   "metadata": {},
   "outputs": [],
   "source": [
    "#Model Training Phase\n",
    "\n",
    "r = model.fit(\n",
    "  x=train_batches,\n",
    "  validation_data=test_batches,\n",
    "  epochs=50,\n",
    "  steps_per_epoch=len(train_batches)\n",
    ")"
   ]
  },
  {
   "cell_type": "code",
   "execution_count": null,
   "id": "c8d6689f-bc37-4f5d-bf62-cc8e36d7b9a3",
   "metadata": {},
   "outputs": [],
   "source": [
    "score = model.evaluate(test_batches,verbose=0)\n",
    "print('Test Loss: ',score[0])\n",
    "print('Test accuracy: ',score[1])\n",
    "print(score)"
   ]
  },
  {
   "cell_type": "code",
   "execution_count": null,
   "id": "c4338dbf-81b7-476d-8f9d-a12efe218785",
   "metadata": {},
   "outputs": [],
   "source": [
    "print(r.history.keys())"
   ]
  },
  {
   "cell_type": "code",
   "execution_count": null,
   "id": "546fa928-2d83-459d-98fc-7bca549e6b9a",
   "metadata": {},
   "outputs": [],
   "source": [
    "plt.plot(r.history['loss'], label='train loss')\n",
    "plt.plot(r.history['val_loss'], label='test loss')\n",
    "plt.legend()\n",
    "plt.show()\n",
    "plt.savefig('Train_Test_loss')"
   ]
  },
  {
   "cell_type": "code",
   "execution_count": null,
   "id": "f54f17d3-04ab-4e30-a3c6-b49b3c9b9605",
   "metadata": {},
   "outputs": [],
   "source": [
    "plt.plot(r.history['accuracy'], label='train acc')\n",
    "plt.plot(r.history['val_accuracy'], label='test acc')\n",
    "plt.legend()\n",
    "plt.show()\n",
    "plt.savefig('Train_Test_acc')"
   ]
  },
  {
   "cell_type": "code",
   "execution_count": null,
   "id": "e528f863-a8ba-4cd8-84c5-a0d510a680f7",
   "metadata": {},
   "outputs": [],
   "source": [
    "predictions = model.predict(x=test_batches, steps=len(test_batches), verbose=0)\n",
    "np.round(predictions)\n",
    "np.argmax(predictions, axis=-1)"
   ]
  },
  {
   "cell_type": "code",
   "execution_count": null,
   "id": "bba7a236-b097-4811-90b2-95a051b110ca",
   "metadata": {},
   "outputs": [],
   "source": [
    "#Confusion Matrix\n",
    "\n",
    "def plot_confusion_matrix(cm, classes,\n",
    "                          normalize=False,\n",
    "                          title='Confusion matrix',\n",
    "                          cmap=plt.cm.Blues):\n",
    "    \"\"\"\n",
    "    This function prints and plots the confusion matrix.\n",
    "    Normalization can be applied by setting `normalize=True`.\n",
    "    \"\"\"\n",
    "    plt.imshow(cm, interpolation='nearest', cmap=cmap)\n",
    "    plt.title(title)\n",
    "    plt.colorbar()\n",
    "    tick_marks = np.arange(len(classes))\n",
    "    plt.xticks(tick_marks, classes, rotation=45)\n",
    "    plt.yticks(tick_marks, classes)\n",
    "\n",
    "    if normalize:\n",
    "        cm = cm.astype('float') / cm.sum(axis=1)[:, np.newaxis]\n",
    "        print(\"Normalized confusion matrix\")\n",
    "    else:\n",
    "        print('Confusion matrix, without normalization')\n",
    "\n",
    "    print(cm)\n",
    "\n",
    "    thresh = cm.max() / 2.\n",
    "    for i, j in itertools.product(range(cm.shape[0]), range(cm.shape[1])):\n",
    "        plt.text(j, i, cm[i, j],\n",
    "            horizontalalignment=\"center\",\n",
    "            color=\"white\" if cm[i, j] > thresh else \"black\")\n",
    "\n",
    "    plt.tight_layout()\n",
    "    plt.ylabel('True label')\n",
    "    plt.xlabel('Predicted label')\n",
    "\n",
    "\n",
    "cm = confusion_matrix(y_true=test_batches.classes, y_pred=np.argmax(predictions, axis=-1))\n",
    "\n",
    "cm_plot_labels = ['Folder Name_1' , 'Folder Nmae_2...']\n",
    "plot_confusion_matrix(cm=cm, classes=cm_plot_labels, title='Confusion Matrix')"
   ]
  },
  {
   "cell_type": "code",
   "execution_count": null,
   "id": "12fb234e-68c5-4f66-9334-fc175d88a5e7",
   "metadata": {},
   "outputs": [],
   "source": [
    "#AUC CURVE\n",
    "\n",
    "from sklearn.metrics import roc_auc_score\n",
    "\n",
    "y_prob = model.predict(x=test_batches, steps=len(test_batches), verbose=0)\n",
    "\n",
    "macro_roc_auc_ovo = roc_auc_score(test_batches.classes, y_prob, multi_class=\"ovo\", average=\"macro\")\n",
    "weighted_roc_auc_ovo = roc_auc_score(\n",
    "    test_batches.classes, y_prob, multi_class=\"ovo\", average=\"weighted\"\n",
    ")\n",
    "macro_roc_auc_ovr = roc_auc_score(test_batches.classes, y_prob, multi_class=\"ovr\", average=\"macro\")\n",
    "weighted_roc_auc_ovr = roc_auc_score(\n",
    "    test_batches.classes, y_prob, multi_class=\"ovr\", average=\"weighted\"\n",
    ")\n",
    "print(\n",
    "    \"One-vs-One ROC AUC scores:\\n{:.6f} (macro),\\n{:.6f} \"\n",
    "    \"(weighted by prevalence)\".format(macro_roc_auc_ovo, weighted_roc_auc_ovo)\n",
    ")\n",
    "print(\n",
    "    \"One-vs-Rest ROC AUC scores:\\n{:.6f} (macro),\\n{:.6f} \"\n",
    "    \"(weighted by prevalence)\".format(macro_roc_auc_ovr, weighted_roc_auc_ovr)\n",
    ")"
   ]
  },
  {
   "cell_type": "code",
   "execution_count": null,
   "id": "cd80a967-d27b-42ce-acf2-8c09cb045c69",
   "metadata": {},
   "outputs": [],
   "source": [
    "# Precison, Recall and F1 Score of Classification\n",
    "from sklearn.metrics import precision_recall_fscore_support\n",
    "precision_recall_fscore_support(test_batches.classes, np.argmax(predictions, axis=-1), average='weighted')"
   ]
  }
 ],
 "metadata": {
  "kernelspec": {
   "display_name": "Python 3 (ipykernel)",
   "language": "python",
   "name": "python3"
  },
  "language_info": {
   "codemirror_mode": {
    "name": "ipython",
    "version": 3
   },
   "file_extension": ".py",
   "mimetype": "text/x-python",
   "name": "python",
   "nbconvert_exporter": "python",
   "pygments_lexer": "ipython3",
   "version": "3.11.7"
  }
 },
 "nbformat": 4,
 "nbformat_minor": 5
}
